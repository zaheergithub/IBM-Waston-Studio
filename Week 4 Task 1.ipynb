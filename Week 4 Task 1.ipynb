{
    "cells": [
        {
            "cell_type": "markdown",
            "metadata": {
                "collapsed": true
            },
            "source": "# My Jupyter Notebook on IBM Watson Studio"
        },
        {
            "cell_type": "markdown",
            "metadata": {},
            "source": "**ZAHEER ABBAS**\nLecturer of Statistics"
        },
        {
            "cell_type": "markdown",
            "metadata": {},
            "source": "*I am interested in data science because I am a statistician and this will boost my carrer.* "
        },
        {
            "cell_type": "markdown",
            "metadata": {},
            "source": "### I am going to subtract 5 fron 2 and print the answer"
        },
        {
            "cell_type": "code",
            "execution_count": 2,
            "metadata": {},
            "outputs": [
                {
                    "name": "stdout",
                    "output_type": "stream",
                    "text": "The remaining value is 3\n"
                }
            ],
            "source": "a= 5\nb = 2\nc= a-b\nprint(\"The remaining value is\", c)"
        },
        {
            "attachments": {},
            "cell_type": "markdown",
            "metadata": {},
            "source": "**Some of my duties include**\n    1   Research\n    2   Teaching\n    3   Data Analysis\n        \u2022\tData mining\n        \u2022\tData Visualization\n        \u2022\tMachine Learning\n|My New Github profile link \n    https://github.com/zaheergithub\n|My university \n   https://lh3.googleusercontent.com/p/AF1QipNX94kp9G6Ik_cusrFAplhDF3E2FpJ4YbwKRYIp=s680-w680-h510\n    \n    "
        },
        {
            "cell_type": "code",
            "execution_count": null,
            "metadata": {},
            "outputs": [],
            "source": ""
        }
    ],
    "metadata": {
        "kernelspec": {
            "display_name": "Python 3.10",
            "language": "python",
            "name": "python3"
        },
        "language_info": {
            "codemirror_mode": {
                "name": "ipython",
                "version": 3
            },
            "file_extension": ".py",
            "mimetype": "text/x-python",
            "name": "python",
            "nbconvert_exporter": "python",
            "pygments_lexer": "ipython3",
            "version": "3.10.6"
        }
    },
    "nbformat": 4,
    "nbformat_minor": 1
}